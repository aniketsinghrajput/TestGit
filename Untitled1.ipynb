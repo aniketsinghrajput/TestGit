{
 "cells": [
  {
   "cell_type": "code",
   "execution_count": 12,
   "id": "a3608b44",
   "metadata": {},
   "outputs": [],
   "source": [
    "import ipywidgets as widgets\n",
    "from IPython.display import display, Javascript"
   ]
  },
  {
   "cell_type": "code",
   "execution_count": 13,
   "id": "4a1c9893",
   "metadata": {},
   "outputs": [],
   "source": [
    "button = widgets.Button(description=\"Go to new page\")"
   ]
  },
  {
   "cell_type": "code",
   "execution_count": 14,
   "id": "47a4e4c8",
   "metadata": {},
   "outputs": [],
   "source": [
    "def on_button_clicked(b):\n",
    "    # Redirect to a new page\n",
    "    print(\"abc\")\n",
    "    display(Javascript('window.location.href=\"https://www.google.com/\"'))\n",
    "\n",
    "button.on_click(on_button_clicked)"
   ]
  },
  {
   "cell_type": "code",
   "execution_count": 15,
   "id": "db0074ff",
   "metadata": {},
   "outputs": [
    {
     "data": {
      "application/vnd.jupyter.widget-view+json": {
       "model_id": "b448c61690ec4edf92d1006811b11790",
       "version_major": 2,
       "version_minor": 0
      },
      "text/plain": [
       "Button(description='Go to new page', style=ButtonStyle())"
      ]
     },
     "metadata": {},
     "output_type": "display_data"
    },
    {
     "name": "stdout",
     "output_type": "stream",
     "text": [
      "abc\n"
     ]
    },
    {
     "data": {
      "application/javascript": [
       "window.location.href=\"https://www.google.com/\""
      ],
      "text/plain": [
       "<IPython.core.display.Javascript object>"
      ]
     },
     "metadata": {},
     "output_type": "display_data"
    }
   ],
   "source": [
    "\n",
    "display(button)"
   ]
  },
  {
   "cell_type": "code",
   "execution_count": null,
   "id": "be3b33ed",
   "metadata": {},
   "outputs": [],
   "source": []
  }
 ],
 "metadata": {
  "kernelspec": {
   "display_name": "Python 3 (ipykernel)",
   "language": "python",
   "name": "python3"
  },
  "language_info": {
   "codemirror_mode": {
    "name": "ipython",
    "version": 3
   },
   "file_extension": ".py",
   "mimetype": "text/x-python",
   "name": "python",
   "nbconvert_exporter": "python",
   "pygments_lexer": "ipython3",
   "version": "3.9.7"
  }
 },
 "nbformat": 4,
 "nbformat_minor": 5
}
